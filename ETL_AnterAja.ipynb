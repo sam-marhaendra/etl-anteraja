{
 "cells": [
  {
   "cell_type": "markdown",
   "metadata": {
    "id": "aI3IZj3y3a2H"
   },
   "source": [
    "# **Pre-ETL**"
   ]
  },
  {
   "cell_type": "markdown",
   "metadata": {
    "id": "u0JIzIQxkRtD"
   },
   "source": [
    "### **Library Installation**"
   ]
  },
  {
   "cell_type": "code",
   "execution_count": null,
   "metadata": {
    "colab": {
     "base_uri": "https://localhost:8080/"
    },
    "id": "S9h11hYS69fc",
    "outputId": "ea18f437-7923-4b00-a858-e1ef945a654b"
   },
   "outputs": [
    {
     "name": "stdout",
     "output_type": "stream",
     "text": [
      "Collecting pyspark\n",
      "  Downloading pyspark-3.2.0.tar.gz (281.3 MB)\n",
      "\u001b[K     |████████████████████████████████| 281.3 MB 35 kB/s \n",
      "\u001b[?25hCollecting py4j==0.10.9.2\n",
      "  Downloading py4j-0.10.9.2-py2.py3-none-any.whl (198 kB)\n",
      "\u001b[K     |████████████████████████████████| 198 kB 7.8 MB/s \n",
      "\u001b[?25hBuilding wheels for collected packages: pyspark\n",
      "  Building wheel for pyspark (setup.py) ... \u001b[?25l\u001b[?25hdone\n",
      "  Created wheel for pyspark: filename=pyspark-3.2.0-py2.py3-none-any.whl size=281805912 sha256=a519dc40bef330d6463bdf7b67b0ec40d4de84379030336ac55649ef7a110697\n",
      "  Stored in directory: /root/.cache/pip/wheels/0b/de/d2/9be5d59d7331c6c2a7c1b6d1a4f463ce107332b1ecd4e80718\n",
      "Successfully built pyspark\n",
      "Installing collected packages: py4j, pyspark\n",
      "Successfully installed py4j-0.10.9.2 pyspark-3.2.0\n"
     ]
    }
   ],
   "source": [
    "!pip install pyspark"
   ]
  },
  {
   "cell_type": "code",
   "execution_count": null,
   "metadata": {
    "colab": {
     "base_uri": "https://localhost:8080/"
    },
    "id": "2mmgAVFCGCPT",
    "outputId": "659d0eb8-07e4-4a15-a4c1-1387fcf3b47c"
   },
   "outputs": [
    {
     "name": "stdout",
     "output_type": "stream",
     "text": [
      "Collecting deep-translator\n",
      "  Downloading deep_translator-1.5.5-py3-none-any.whl (30 kB)\n",
      "Requirement already satisfied: requests<3.0.0,>=2.23.0 in /usr/local/lib/python3.7/dist-packages (from deep-translator) (2.23.0)\n",
      "Collecting click<9.0.0,>=8.0.1\n",
      "  Downloading click-8.0.3-py3-none-any.whl (97 kB)\n",
      "\u001b[K     |████████████████████████████████| 97 kB 5.5 MB/s \n",
      "\u001b[?25hCollecting beautifulsoup4<5.0.0,>=4.9.1\n",
      "  Downloading beautifulsoup4-4.10.0-py3-none-any.whl (97 kB)\n",
      "\u001b[K     |████████████████████████████████| 97 kB 6.5 MB/s \n",
      "\u001b[?25hCollecting soupsieve>1.2\n",
      "  Downloading soupsieve-2.3.1-py3-none-any.whl (37 kB)\n",
      "Requirement already satisfied: importlib-metadata in /usr/local/lib/python3.7/dist-packages (from click<9.0.0,>=8.0.1->deep-translator) (4.8.2)\n",
      "Requirement already satisfied: chardet<4,>=3.0.2 in /usr/local/lib/python3.7/dist-packages (from requests<3.0.0,>=2.23.0->deep-translator) (3.0.4)\n",
      "Requirement already satisfied: certifi>=2017.4.17 in /usr/local/lib/python3.7/dist-packages (from requests<3.0.0,>=2.23.0->deep-translator) (2021.10.8)\n",
      "Requirement already satisfied: idna<3,>=2.5 in /usr/local/lib/python3.7/dist-packages (from requests<3.0.0,>=2.23.0->deep-translator) (2.10)\n",
      "Requirement already satisfied: urllib3!=1.25.0,!=1.25.1,<1.26,>=1.21.1 in /usr/local/lib/python3.7/dist-packages (from requests<3.0.0,>=2.23.0->deep-translator) (1.24.3)\n",
      "Requirement already satisfied: typing-extensions>=3.6.4 in /usr/local/lib/python3.7/dist-packages (from importlib-metadata->click<9.0.0,>=8.0.1->deep-translator) (3.10.0.2)\n",
      "Requirement already satisfied: zipp>=0.5 in /usr/local/lib/python3.7/dist-packages (from importlib-metadata->click<9.0.0,>=8.0.1->deep-translator) (3.6.0)\n",
      "Installing collected packages: soupsieve, click, beautifulsoup4, deep-translator\n",
      "  Attempting uninstall: click\n",
      "    Found existing installation: click 7.1.2\n",
      "    Uninstalling click-7.1.2:\n",
      "      Successfully uninstalled click-7.1.2\n",
      "  Attempting uninstall: beautifulsoup4\n",
      "    Found existing installation: beautifulsoup4 4.6.3\n",
      "    Uninstalling beautifulsoup4-4.6.3:\n",
      "      Successfully uninstalled beautifulsoup4-4.6.3\n",
      "\u001b[31mERROR: pip's dependency resolver does not currently take into account all the packages that are installed. This behaviour is the source of the following dependency conflicts.\n",
      "flask 1.1.4 requires click<8.0,>=5.1, but you have click 8.0.3 which is incompatible.\u001b[0m\n",
      "Successfully installed beautifulsoup4-4.10.0 click-8.0.3 deep-translator-1.5.5 soupsieve-2.3.1\n"
     ]
    }
   ],
   "source": [
    "!pip install deep-translator"
   ]
  },
  {
   "cell_type": "code",
   "execution_count": null,
   "metadata": {
    "colab": {
     "base_uri": "https://localhost:8080/"
    },
    "id": "a8GLdQVY5mZ9",
    "outputId": "c69dfc37-d302-4893-b22c-f74095ab4202"
   },
   "outputs": [
    {
     "name": "stdout",
     "output_type": "stream",
     "text": [
      "Collecting google-play-scraper\n",
      "  Downloading google-play-scraper-1.0.2.tar.gz (52 kB)\n",
      "\u001b[K     |████████████████████████████████| 52 kB 767 kB/s \n",
      "\u001b[?25hBuilding wheels for collected packages: google-play-scraper\n",
      "  Building wheel for google-play-scraper (setup.py) ... \u001b[?25l\u001b[?25hdone\n",
      "  Created wheel for google-play-scraper: filename=google_play_scraper-1.0.2-py3-none-any.whl size=24393 sha256=32d3b87a5fd0241924b0c6edde9ca57dde8617962c5629c8b7dfd55cb0a64ed4\n",
      "  Stored in directory: /root/.cache/pip/wheels/98/99/eb/bbb9d24a5c526980647efc10336eaaeffcf07749f581111128\n",
      "Successfully built google-play-scraper\n",
      "Installing collected packages: google-play-scraper\n",
      "Successfully installed google-play-scraper-1.0.2\n"
     ]
    }
   ],
   "source": [
    "!pip install google-play-scraper"
   ]
  },
  {
   "cell_type": "code",
   "execution_count": null,
   "metadata": {
    "colab": {
     "base_uri": "https://localhost:8080/"
    },
    "id": "xzhKjGKQ5tAY",
    "outputId": "74f44a23-ba49-420c-d32c-8a2c611ce48d"
   },
   "outputs": [
    {
     "name": "stdout",
     "output_type": "stream",
     "text": [
      "Collecting tweet-preprocessor\n",
      "  Downloading tweet_preprocessor-0.6.0-py3-none-any.whl (27 kB)\n",
      "Installing collected packages: tweet-preprocessor\n",
      "Successfully installed tweet-preprocessor-0.6.0\n"
     ]
    }
   ],
   "source": [
    "!pip install tweet-preprocessor"
   ]
  },
  {
   "cell_type": "code",
   "execution_count": null,
   "metadata": {
    "colab": {
     "base_uri": "https://localhost:8080/"
    },
    "id": "5aX8sIwQpB5i",
    "outputId": "72a96cb6-ff7b-49d9-ef96-b956dc98f055"
   },
   "outputs": [
    {
     "name": "stdout",
     "output_type": "stream",
     "text": [
      "Collecting emoji\n",
      "  Downloading emoji-1.6.1.tar.gz (170 kB)\n",
      "\u001b[K     |████████████████████████████████| 170 kB 25.8 MB/s \n",
      "\u001b[?25hBuilding wheels for collected packages: emoji\n",
      "  Building wheel for emoji (setup.py) ... \u001b[?25l\u001b[?25hdone\n",
      "  Created wheel for emoji: filename=emoji-1.6.1-py3-none-any.whl size=169314 sha256=60d9a2e04361a8dd0996054b9ad08a4681897a00cb8a45055acb2ca55a1cdb47\n",
      "  Stored in directory: /root/.cache/pip/wheels/ea/5f/d3/03d313ddb3c2a1a427bb4690f1621eea60fe6f2a30cc95940f\n",
      "Successfully built emoji\n",
      "Installing collected packages: emoji\n",
      "Successfully installed emoji-1.6.1\n"
     ]
    }
   ],
   "source": [
    "!pip install emoji"
   ]
  },
  {
   "cell_type": "code",
   "execution_count": null,
   "metadata": {
    "colab": {
     "base_uri": "https://localhost:8080/"
    },
    "id": "CqEON9aXDCiS",
    "outputId": "79f1a768-4ace-47bf-92f6-882d2e06f656"
   },
   "outputs": [
    {
     "name": "stdout",
     "output_type": "stream",
     "text": [
      "Collecting boto3\n",
      "  Downloading boto3-1.20.14-py3-none-any.whl (131 kB)\n",
      "\u001b[K     |████████████████████████████████| 131 kB 24.8 MB/s \n",
      "\u001b[?25hCollecting botocore<1.24.0,>=1.23.14\n",
      "  Downloading botocore-1.23.14-py3-none-any.whl (8.2 MB)\n",
      "\u001b[K     |████████████████████████████████| 8.2 MB 13.3 MB/s \n",
      "\u001b[?25hCollecting jmespath<1.0.0,>=0.7.1\n",
      "  Downloading jmespath-0.10.0-py2.py3-none-any.whl (24 kB)\n",
      "Collecting s3transfer<0.6.0,>=0.5.0\n",
      "  Downloading s3transfer-0.5.0-py3-none-any.whl (79 kB)\n",
      "\u001b[K     |████████████████████████████████| 79 kB 5.3 MB/s \n",
      "\u001b[?25hCollecting urllib3<1.27,>=1.25.4\n",
      "  Downloading urllib3-1.26.7-py2.py3-none-any.whl (138 kB)\n",
      "\u001b[K     |████████████████████████████████| 138 kB 46.8 MB/s \n",
      "\u001b[?25hRequirement already satisfied: python-dateutil<3.0.0,>=2.1 in /usr/local/lib/python3.7/dist-packages (from botocore<1.24.0,>=1.23.14->boto3) (2.8.2)\n",
      "Requirement already satisfied: six>=1.5 in /usr/local/lib/python3.7/dist-packages (from python-dateutil<3.0.0,>=2.1->botocore<1.24.0,>=1.23.14->boto3) (1.15.0)\n",
      "Installing collected packages: urllib3, jmespath, botocore, s3transfer, boto3\n",
      "  Attempting uninstall: urllib3\n",
      "    Found existing installation: urllib3 1.24.3\n",
      "    Uninstalling urllib3-1.24.3:\n",
      "      Successfully uninstalled urllib3-1.24.3\n",
      "\u001b[31mERROR: pip's dependency resolver does not currently take into account all the packages that are installed. This behaviour is the source of the following dependency conflicts.\n",
      "requests 2.23.0 requires urllib3!=1.25.0,!=1.25.1,<1.26,>=1.21.1, but you have urllib3 1.26.7 which is incompatible.\n",
      "datascience 0.10.6 requires folium==0.2.1, but you have folium 0.8.3 which is incompatible.\u001b[0m\n",
      "Successfully installed boto3-1.20.14 botocore-1.23.14 jmespath-0.10.0 s3transfer-0.5.0 urllib3-1.26.7\n"
     ]
    }
   ],
   "source": [
    "!pip install boto3"
   ]
  },
  {
   "cell_type": "code",
   "execution_count": null,
   "metadata": {
    "colab": {
     "base_uri": "https://localhost:8080/"
    },
    "id": "MkRV30ziC-pT",
    "outputId": "308cf627-928e-4dcf-9c27-46fa5e027eac"
   },
   "outputs": [
    {
     "name": "stdout",
     "output_type": "stream",
     "text": [
      "Requirement already satisfied: pymongo in /usr/local/lib/python3.7/dist-packages (3.12.1)\n",
      "Collecting awscli\n",
      "  Downloading awscli-1.22.14-py3-none-any.whl (3.8 MB)\n",
      "\u001b[K     |████████████████████████████████| 3.8 MB 25.9 MB/s \n",
      "\u001b[?25hCollecting docutils<0.16,>=0.10\n",
      "  Downloading docutils-0.15.2-py3-none-any.whl (547 kB)\n",
      "\u001b[K     |████████████████████████████████| 547 kB 29.2 MB/s \n",
      "\u001b[?25hRequirement already satisfied: PyYAML<5.5,>=3.10 in /usr/local/lib/python3.7/dist-packages (from awscli) (3.13)\n",
      "Requirement already satisfied: s3transfer<0.6.0,>=0.5.0 in /usr/local/lib/python3.7/dist-packages (from awscli) (0.5.0)\n",
      "Requirement already satisfied: botocore==1.23.14 in /usr/local/lib/python3.7/dist-packages (from awscli) (1.23.14)\n",
      "Collecting colorama<0.4.4,>=0.2.5\n",
      "  Downloading colorama-0.4.3-py2.py3-none-any.whl (15 kB)\n",
      "Requirement already satisfied: rsa<4.8,>=3.1.2 in /usr/local/lib/python3.7/dist-packages (from awscli) (4.7.2)\n",
      "Requirement already satisfied: urllib3<1.27,>=1.25.4 in /usr/local/lib/python3.7/dist-packages (from botocore==1.23.14->awscli) (1.26.7)\n",
      "Requirement already satisfied: jmespath<1.0.0,>=0.7.1 in /usr/local/lib/python3.7/dist-packages (from botocore==1.23.14->awscli) (0.10.0)\n",
      "Requirement already satisfied: python-dateutil<3.0.0,>=2.1 in /usr/local/lib/python3.7/dist-packages (from botocore==1.23.14->awscli) (2.8.2)\n",
      "Requirement already satisfied: six>=1.5 in /usr/local/lib/python3.7/dist-packages (from python-dateutil<3.0.0,>=2.1->botocore==1.23.14->awscli) (1.15.0)\n",
      "Requirement already satisfied: pyasn1>=0.1.3 in /usr/local/lib/python3.7/dist-packages (from rsa<4.8,>=3.1.2->awscli) (0.4.8)\n",
      "Collecting dnspython<3.0.0,>=1.16.0\n",
      "  Downloading dnspython-2.1.0-py3-none-any.whl (241 kB)\n",
      "\u001b[K     |████████████████████████████████| 241 kB 51.8 MB/s \n",
      "\u001b[?25hInstalling collected packages: docutils, dnspython, colorama, awscli\n",
      "  Attempting uninstall: docutils\n",
      "    Found existing installation: docutils 0.17.1\n",
      "    Uninstalling docutils-0.17.1:\n",
      "      Successfully uninstalled docutils-0.17.1\n",
      "\u001b[31mERROR: pip's dependency resolver does not currently take into account all the packages that are installed. This behaviour is the source of the following dependency conflicts.\n",
      "datascience 0.10.6 requires folium==0.2.1, but you have folium 0.8.3 which is incompatible.\u001b[0m\n",
      "Successfully installed awscli-1.22.14 colorama-0.4.3 dnspython-2.1.0 docutils-0.15.2\n"
     ]
    }
   ],
   "source": [
    "!pip install pymongo pymongo[srv] awscli"
   ]
  },
  {
   "cell_type": "markdown",
   "metadata": {
    "id": "skhO_ImOGKcH"
   },
   "source": [
    "### **API Key**"
   ]
  },
  {
   "cell_type": "code",
   "execution_count": null,
   "metadata": {
    "id": "ya9dqFJzGFnN"
   },
   "outputs": [],
   "source": [
    "# API key, API secret, access token, access token secret\n",
    "API_KEY = <YOUR_API_KEY>\n",
    "API_SECRET = <YOUR_API_SECRET>\n",
    "ACCESS_TOKEN = <YOUR_ACCESS_TOKEN>\n",
    "ACCESS_TOKEN_SECRET = <YOUR_ACCESS_TOKEN_SECRET>\n",
    "\n",
    "# Authentification\n",
    "auth = tw.OAuthHandler(API_KEY, API_SECRET)\n",
    "auth.set_access_token(ACCESS_TOKEN, ACCESS_TOKEN_SECRET)\n",
    "\n",
    "# API\n",
    "api = tw.API(auth, wait_on_rate_limit=True)"
   ]
  },
  {
   "cell_type": "markdown",
   "metadata": {
    "id": "90zAyWjykY40"
   },
   "source": [
    "### **Importing Libraries**"
   ]
  },
  {
   "cell_type": "code",
   "execution_count": null,
   "metadata": {
    "id": "7GfFqJ2rb-Cn"
   },
   "outputs": [],
   "source": [
    "# PySpark\n",
    "from pyspark.sql import SparkSession\n",
    "from pyspark.sql.types import StringType, IntegerType, StructType, StructField, TimestampType, FloatType\n",
    "from pyspark.sql.functions import udf, col\n",
    "\n",
    "# Scraping Libraries\n",
    "import tweepy as tw\n",
    "from google_play_scraper import app, Sort, reviews_all\n",
    "\n",
    "# Text Processing Libraries\n",
    "from deep_translator import GoogleTranslator\n",
    "from textblob import TextBlob\n",
    "from nltk.corpus import stopwords\n",
    "import re\n",
    "import nltk\n",
    "import preprocessor as p\n",
    "import emoji\n",
    "\n",
    "# S3 Load Libraries\n",
    "import boto3\n",
    "import io\n",
    "from io import StringIO\n",
    "\n",
    "import pandas as pd\n",
    "import numpy as np\n",
    "import seaborn as sns\n",
    "import matplotlib.pyplot as plt"
   ]
  },
  {
   "cell_type": "markdown",
   "metadata": {
    "id": "vHSBFR_j3vkE"
   },
   "source": [
    "### **Creating Spark Session**"
   ]
  },
  {
   "cell_type": "code",
   "execution_count": null,
   "metadata": {
    "id": "1AGp6_A33n57"
   },
   "outputs": [],
   "source": [
    "spark = SparkSession.builder.appName(\"AnterajaRevs\").getOrCreate()"
   ]
  },
  {
   "cell_type": "markdown",
   "metadata": {
    "id": "nGKy4mO03pTE"
   },
   "source": [
    "### **Some Configurations**"
   ]
  },
  {
   "cell_type": "code",
   "execution_count": null,
   "metadata": {
    "colab": {
     "base_uri": "https://localhost:8080/"
    },
    "id": "veaT-C3c3rgo",
    "outputId": "0b9ef008-2013-4127-acfc-63b07e19d7c2"
   },
   "outputs": [
    {
     "name": "stdout",
     "output_type": "stream",
     "text": [
      "[nltk_data] Downloading package words to /root/nltk_data...\n",
      "[nltk_data]   Unzipping corpora/words.zip.\n"
     ]
    }
   ],
   "source": [
    "p.set_options(p.OPT.MENTION, p.OPT.EMOJI, p.OPT.HASHTAG, p.OPT.RESERVED, p.OPT.SMILEY, p.OPT.URL)\n",
    "nltk.download('words')\n",
    "words = set(nltk.corpus.words.words())"
   ]
  },
  {
   "cell_type": "markdown",
   "metadata": {
    "id": "dMSKOKzhkdvE"
   },
   "source": [
    "# **Extract**"
   ]
  },
  {
   "cell_type": "markdown",
   "metadata": {
    "id": "nR7dr7mIkfAl"
   },
   "source": [
    "### **A. Scraping Twitter Data**"
   ]
  },
  {
   "cell_type": "code",
   "execution_count": null,
   "metadata": {
    "id": "ijlpczenEnwO"
   },
   "outputs": [],
   "source": [
    "# Define the search term and the date_since date as variables\n",
    "search_words = \"anteraja -from:anteraja_id lang:id\"\n",
    "date_year = \"2021\"\n",
    "date_month = \"10\"\n",
    "date_days = range(10, 18)\n",
    "date_time = \"2315\"\n",
    "screen_name = []\n",
    "text = []\n",
    "created_at = []\n",
    "\n",
    "for date_day in date_days:\n",
    "  date_since = date_year + date_month + str(date_day) + date_time \n",
    "  date_until = date_year + date_month + str(date_day+1) + date_time\n",
    "\n",
    "  tweets = tw.Cursor(api.search_full_archive,\n",
    "                    environment_name=\"TwitterResearch\",\n",
    "                    query=search_words,\n",
    "                    fromDate=date_since,\n",
    "                    toDate=date_until).items(100)\n",
    "  \n",
    "  for tweet in tweets:\n",
    "    screen_name.append(tweet.user.screen_name)\n",
    "    text.append(tweet.text)\n",
    "    created_at.append(tweet.created_at)"
   ]
  },
  {
   "cell_type": "code",
   "execution_count": null,
   "metadata": {
    "id": "3ammJPQvE0e1"
   },
   "outputs": [],
   "source": [
    "tweet_data = pd.DataFrame(\n",
    "    {'username': screen_name,\n",
    "     'date': created_at,\n",
    "     'tweet': text\n",
    "    })"
   ]
  },
  {
   "cell_type": "code",
   "execution_count": null,
   "metadata": {
    "colab": {
     "base_uri": "https://localhost:8080/",
     "height": 424
    },
    "id": "YdPyPhFhE2F2",
    "outputId": "f1006eb8-3dc4-45bd-c9ef-3ee73dcf3145"
   },
   "outputs": [
    {
     "data": {
      "text/html": [
       "<div>\n",
       "<style scoped>\n",
       "    .dataframe tbody tr th:only-of-type {\n",
       "        vertical-align: middle;\n",
       "    }\n",
       "\n",
       "    .dataframe tbody tr th {\n",
       "        vertical-align: top;\n",
       "    }\n",
       "\n",
       "    .dataframe thead th {\n",
       "        text-align: right;\n",
       "    }\n",
       "</style>\n",
       "<table border=\"1\" class=\"dataframe\">\n",
       "  <thead>\n",
       "    <tr style=\"text-align: right;\">\n",
       "      <th></th>\n",
       "      <th>username</th>\n",
       "      <th>date</th>\n",
       "      <th>tweet</th>\n",
       "    </tr>\n",
       "  </thead>\n",
       "  <tbody>\n",
       "    <tr>\n",
       "      <th>0</th>\n",
       "      <td>GrabID</td>\n",
       "      <td>2021-10-11 23:09:02</td>\n",
       "      <td>@ezizyaa Kalau itu tergantung kebijakan dari A...</td>\n",
       "    </tr>\n",
       "    <tr>\n",
       "      <th>1</th>\n",
       "      <td>GrabID</td>\n",
       "      <td>2021-10-11 22:59:46</td>\n",
       "      <td>@ezizyaa Hai Kak :) buat pengiriman antar kota...</td>\n",
       "    </tr>\n",
       "    <tr>\n",
       "      <th>2</th>\n",
       "      <td>marsupilapila</td>\n",
       "      <td>2021-10-11 21:36:13</td>\n",
       "      <td>@anteraja_id mau tanya paket dengan nomor resi...</td>\n",
       "    </tr>\n",
       "    <tr>\n",
       "      <th>3</th>\n",
       "      <td>aLpyPutraa</td>\n",
       "      <td>2021-10-11 21:19:56</td>\n",
       "      <td>RT @amiranh_: Halo @anteraja_id saya pesan ops...</td>\n",
       "    </tr>\n",
       "    <tr>\n",
       "      <th>4</th>\n",
       "      <td>Naanganang</td>\n",
       "      <td>2021-10-11 21:13:43</td>\n",
       "      <td>@anteraja_id min ini kenapa dari minggu udah a...</td>\n",
       "    </tr>\n",
       "    <tr>\n",
       "      <th>...</th>\n",
       "      <td>...</td>\n",
       "      <td>...</td>\n",
       "      <td>...</td>\n",
       "    </tr>\n",
       "    <tr>\n",
       "      <th>795</th>\n",
       "      <td>viviankurniawan</td>\n",
       "      <td>2021-10-18 10:46:54</td>\n",
       "      <td>@anteraja_id oh okay, alasan diretur knp ya ka...</td>\n",
       "    </tr>\n",
       "    <tr>\n",
       "      <th>796</th>\n",
       "      <td>agusminong</td>\n",
       "      <td>2021-10-18 10:45:33</td>\n",
       "      <td>@anteraja_id Pakai pengiriman @anteraja_id  bi...</td>\n",
       "    </tr>\n",
       "    <tr>\n",
       "      <th>797</th>\n",
       "      <td>vmcinghu</td>\n",
       "      <td>2021-10-18 10:43:18</td>\n",
       "      <td>halo @anteraja_id mohon ingin cepat dikirim ya...</td>\n",
       "    </tr>\n",
       "    <tr>\n",
       "      <th>798</th>\n",
       "      <td>Irfan22031</td>\n",
       "      <td>2021-10-18 10:41:31</td>\n",
       "      <td>@anteraja_id Cek dm napa min</td>\n",
       "    </tr>\n",
       "    <tr>\n",
       "      <th>799</th>\n",
       "      <td>blacklist_era</td>\n",
       "      <td>2021-10-18 10:38:48</td>\n",
       "      <td>@anteraja_id Capek banget aselik Ven 😭 sebel 😤</td>\n",
       "    </tr>\n",
       "  </tbody>\n",
       "</table>\n",
       "<p>800 rows × 3 columns</p>\n",
       "</div>"
      ],
      "text/plain": [
       "            username  ...                                              tweet\n",
       "0             GrabID  ...  @ezizyaa Kalau itu tergantung kebijakan dari A...\n",
       "1             GrabID  ...  @ezizyaa Hai Kak :) buat pengiriman antar kota...\n",
       "2      marsupilapila  ...  @anteraja_id mau tanya paket dengan nomor resi...\n",
       "3         aLpyPutraa  ...  RT @amiranh_: Halo @anteraja_id saya pesan ops...\n",
       "4         Naanganang  ...  @anteraja_id min ini kenapa dari minggu udah a...\n",
       "..               ...  ...                                                ...\n",
       "795  viviankurniawan  ...  @anteraja_id oh okay, alasan diretur knp ya ka...\n",
       "796       agusminong  ...  @anteraja_id Pakai pengiriman @anteraja_id  bi...\n",
       "797         vmcinghu  ...  halo @anteraja_id mohon ingin cepat dikirim ya...\n",
       "798       Irfan22031  ...                       @anteraja_id Cek dm napa min\n",
       "799    blacklist_era  ...     @anteraja_id Capek banget aselik Ven 😭 sebel 😤\n",
       "\n",
       "[800 rows x 3 columns]"
      ]
     },
     "execution_count": 117,
     "metadata": {},
     "output_type": "execute_result"
    }
   ],
   "source": [
    "tweet_data"
   ]
  },
  {
   "cell_type": "code",
   "execution_count": null,
   "metadata": {
    "id": "lJXV1LhXJe6L"
   },
   "outputs": [],
   "source": [
    "# Defining Spark schema\n",
    "schema_twt = 'username STRING, date TIMESTAMP, tweet STRING'"
   ]
  },
  {
   "cell_type": "code",
   "execution_count": null,
   "metadata": {
    "id": "bGtaWRq_KTnp"
   },
   "outputs": [],
   "source": [
    "# Converting data type of 'date' column from string to datetime\n",
    "tweet_data['date'] = pd.to_datetime(tweet_data['date'])"
   ]
  },
  {
   "cell_type": "code",
   "execution_count": null,
   "metadata": {
    "id": "AihcVj-Dd6ah"
   },
   "outputs": [],
   "source": [
    "# Creating Spark dataframe using defined schema\n",
    "df_Twitter = spark.createDataFrame(tweet_data[['username', 'date', 'tweet']], schema_twt) "
   ]
  },
  {
   "cell_type": "code",
   "execution_count": null,
   "metadata": {
    "colab": {
     "base_uri": "https://localhost:8080/"
    },
    "id": "f1PEagkEDHy-",
    "outputId": "add60433-3260-4708-e6e6-3dd31704b89e"
   },
   "outputs": [
    {
     "name": "stdout",
     "output_type": "stream",
     "text": [
      "root\n",
      " |-- username: string (nullable = true)\n",
      " |-- date: timestamp (nullable = true)\n",
      " |-- tweet: string (nullable = true)\n",
      "\n"
     ]
    }
   ],
   "source": [
    "df_Twitter.printSchema()"
   ]
  },
  {
   "cell_type": "code",
   "execution_count": null,
   "metadata": {
    "colab": {
     "base_uri": "https://localhost:8080/"
    },
    "id": "1cJVvEP9I0p8",
    "outputId": "628321dc-f3d3-44cb-8d8b-ca4c62c7a69c"
   },
   "outputs": [
    {
     "name": "stdout",
     "output_type": "stream",
     "text": [
      "+--------+-------------------+--------------------+\n",
      "|username|               date|               tweet|\n",
      "+--------+-------------------+--------------------+\n",
      "|  GrabID|2021-10-11 23:09:02|@ezizyaa Kalau it...|\n",
      "|  GrabID|2021-10-11 22:59:46|@ezizyaa Hai Kak ...|\n",
      "+--------+-------------------+--------------------+\n",
      "only showing top 2 rows\n",
      "\n"
     ]
    }
   ],
   "source": [
    "df_Twitter.show(n=2)"
   ]
  },
  {
   "cell_type": "markdown",
   "metadata": {
    "id": "7p3aGraFkpRs"
   },
   "source": [
    "### **B. Scraping Google Play Store Review**"
   ]
  },
  {
   "cell_type": "code",
   "execution_count": null,
   "metadata": {
    "id": "OcmO8npZ1Uqh"
   },
   "outputs": [],
   "source": [
    "id_reviews = reviews_all(\n",
    "                        'id.anteraja.aca',\n",
    "                        sleep_milliseconds=0, # defaults to 0\n",
    "                        lang='en', # defaults to 'en'\n",
    "                        country='id', # defaults to 'us'\n",
    "                        sort=Sort.NEWEST, # defaults to Sort.MOST_RELEVANT\n",
    "                        )"
   ]
  },
  {
   "cell_type": "code",
   "execution_count": null,
   "metadata": {
    "id": "K5UfyCn0KtIr"
   },
   "outputs": [],
   "source": [
    "# Defining Spark schema\n",
    "schema_ps = 'userName STRING, at TIMESTAMP, content STRING'"
   ]
  },
  {
   "cell_type": "code",
   "execution_count": null,
   "metadata": {
    "id": "Tn0FsAlb1eBi"
   },
   "outputs": [],
   "source": [
    "df_google_play = pd.DataFrame(np.array(id_reviews), columns=['review'])\n",
    "df_google_play = df_google_play.join(pd.DataFrame(df_google_play.pop('review').tolist()))\n",
    "\n",
    "# Converting data type of 'at' column from string to datetime\n",
    "df_google_play['at'] = pd.to_datetime(df_google_play['at'])"
   ]
  },
  {
   "cell_type": "code",
   "execution_count": null,
   "metadata": {
    "id": "0NyI1xRxysbJ"
   },
   "outputs": [],
   "source": [
    "# Creating Spark dataframe using defined schema\n",
    "df_google_play = spark.createDataFrame(df_google_play[['userName', 'at', 'content']], schema_ps)"
   ]
  },
  {
   "cell_type": "code",
   "execution_count": null,
   "metadata": {
    "colab": {
     "base_uri": "https://localhost:8080/"
    },
    "id": "yIpHTi6Q2DP5",
    "outputId": "c9515452-249e-4416-8b47-dcf895dc7fd2"
   },
   "outputs": [
    {
     "name": "stdout",
     "output_type": "stream",
     "text": [
      "root\n",
      " |-- userName: string (nullable = true)\n",
      " |-- at: timestamp (nullable = true)\n",
      " |-- content: string (nullable = true)\n",
      "\n"
     ]
    }
   ],
   "source": [
    "df_google_play.printSchema()"
   ]
  },
  {
   "cell_type": "code",
   "execution_count": null,
   "metadata": {
    "colab": {
     "base_uri": "https://localhost:8080/"
    },
    "id": "-CLXPAyBIuiF",
    "outputId": "4faa9e75-78f4-4a69-fd41-54361a01ec91"
   },
   "outputs": [
    {
     "name": "stdout",
     "output_type": "stream",
     "text": [
      "+-------------+-------------------+--------------------+\n",
      "|     userName|                 at|             content|\n",
      "+-------------+-------------------+--------------------+\n",
      "| Ahmad Syukri|2021-11-28 12:09:21|Mantabb... Harga ...|\n",
      "|eliyanto liga|2021-11-28 08:19:34|          👍👍👍👍👍|\n",
      "+-------------+-------------------+--------------------+\n",
      "only showing top 2 rows\n",
      "\n"
     ]
    }
   ],
   "source": [
    "df_google_play.show(n=2)"
   ]
  },
  {
   "cell_type": "markdown",
   "metadata": {
    "id": "kUP8HW1CkuCr"
   },
   "source": [
    "# **Transform**"
   ]
  },
  {
   "cell_type": "markdown",
   "metadata": {
    "id": "0jxAnWc_4tz5"
   },
   "source": [
    "### **A. Creating Functions**"
   ]
  },
  {
   "cell_type": "markdown",
   "metadata": {
    "id": "WXT5JavSkxLs"
   },
   "source": [
    "#### **1. Defining Translator Function**"
   ]
  },
  {
   "cell_type": "code",
   "execution_count": null,
   "metadata": {
    "id": "Xcab6P3VMLbY"
   },
   "outputs": [],
   "source": [
    "def translator(text):\n",
    "  text = GoogleTranslator(source='id', target='en').translate(text)\n",
    "  #text = TextBlob(text).translate(to=\"en\")\n",
    "  return text\n",
    "  \n",
    "#udf_translate = udf(lambda x:translator(x), StringType())"
   ]
  },
  {
   "cell_type": "markdown",
   "metadata": {
    "id": "CiRafKjtkzWV"
   },
   "source": [
    "#### **2. Defining Cleansing Function**"
   ]
  },
  {
   "cell_type": "code",
   "execution_count": null,
   "metadata": {
    "id": "XhXgZPzFIt20"
   },
   "outputs": [],
   "source": [
    "def cleaner(text):\n",
    "    text = re.sub(\"@[A-Za-z0-9]+\", \"\", text) #Remove @ sign\n",
    "    text = ''.join(c for c in text if c not in emoji.UNICODE_EMOJI) #Remove Emojis\n",
    "    text = text.replace(\"#\", \"\").replace(\"_\", \"\") #Remove hashtag sign but keep the text\n",
    "    text = \" \".join(w for w in nltk.wordpunct_tokenize(text) \\\n",
    "         if w.lower() in words or not w.isalpha()) #Remove non-english tweets (not 100% success)\n",
    "    return text\n",
    "\n",
    "udf_clean = udf(lambda x:cleaner(x), StringType())"
   ]
  },
  {
   "cell_type": "markdown",
   "metadata": {
    "id": "SC8nrNrrk2op"
   },
   "source": [
    "#### **3. Defining Sentiment Score Function**"
   ]
  },
  {
   "cell_type": "code",
   "execution_count": null,
   "metadata": {
    "id": "0wg9wO3UKnmu"
   },
   "outputs": [],
   "source": [
    "def sentiment_score(text):\n",
    "  blob = TextBlob(str(text))\n",
    "  score = blob.polarity\n",
    "  return score\n",
    "\n",
    "udf_sentiment_score = udf(lambda x:sentiment_score(x), FloatType())"
   ]
  },
  {
   "cell_type": "markdown",
   "metadata": {
    "id": "JqJ5Vc4q9H9M"
   },
   "source": [
    "#### **4. Defining Sentiment Analysis Function**"
   ]
  },
  {
   "cell_type": "code",
   "execution_count": null,
   "metadata": {
    "id": "znozFPKF9Lh0"
   },
   "outputs": [],
   "source": [
    "def sentiment(sentiment_score):\n",
    "   if sentiment_score > 0:\n",
    "    return \"positive\"\n",
    "   elif sentiment_score < 0:\n",
    "    return \"negative\"\n",
    "   else:\n",
    "    return \"neutral\"  \n",
    "\n",
    "udf_sentiment = udf(lambda x:sentiment(x), StringType())"
   ]
  },
  {
   "cell_type": "markdown",
   "metadata": {
    "id": "hpB9kci_vE-Z"
   },
   "source": [
    "### **B. Applying Functions to Twitter Data**"
   ]
  },
  {
   "cell_type": "code",
   "execution_count": null,
   "metadata": {
    "colab": {
     "base_uri": "https://localhost:8080/",
     "height": 206
    },
    "id": "6dIGooLGXO0Q",
    "outputId": "57763c16-33f7-4040-d4cb-84d719c8d759"
   },
   "outputs": [
    {
     "data": {
      "text/html": [
       "<div>\n",
       "<style scoped>\n",
       "    .dataframe tbody tr th:only-of-type {\n",
       "        vertical-align: middle;\n",
       "    }\n",
       "\n",
       "    .dataframe tbody tr th {\n",
       "        vertical-align: top;\n",
       "    }\n",
       "\n",
       "    .dataframe thead th {\n",
       "        text-align: right;\n",
       "    }\n",
       "</style>\n",
       "<table border=\"1\" class=\"dataframe\">\n",
       "  <thead>\n",
       "    <tr style=\"text-align: right;\">\n",
       "      <th></th>\n",
       "      <th>username</th>\n",
       "      <th>date</th>\n",
       "      <th>tweet</th>\n",
       "    </tr>\n",
       "  </thead>\n",
       "  <tbody>\n",
       "    <tr>\n",
       "      <th>0</th>\n",
       "      <td>GrabID</td>\n",
       "      <td>2021-10-11 23:09:02</td>\n",
       "      <td>@ezizyaa Kalau itu tergantung kebijakan dari A...</td>\n",
       "    </tr>\n",
       "    <tr>\n",
       "      <th>1</th>\n",
       "      <td>GrabID</td>\n",
       "      <td>2021-10-11 22:59:46</td>\n",
       "      <td>@ezizyaa Hai Kak :) buat pengiriman antar kota...</td>\n",
       "    </tr>\n",
       "    <tr>\n",
       "      <th>2</th>\n",
       "      <td>marsupilapila</td>\n",
       "      <td>2021-10-11 21:36:13</td>\n",
       "      <td>@anteraja_id mau tanya paket dengan nomor resi...</td>\n",
       "    </tr>\n",
       "    <tr>\n",
       "      <th>3</th>\n",
       "      <td>aLpyPutraa</td>\n",
       "      <td>2021-10-11 21:19:56</td>\n",
       "      <td>RT @amiranh_: Halo @anteraja_id saya pesan ops...</td>\n",
       "    </tr>\n",
       "    <tr>\n",
       "      <th>4</th>\n",
       "      <td>Naanganang</td>\n",
       "      <td>2021-10-11 21:13:43</td>\n",
       "      <td>@anteraja_id min ini kenapa dari minggu udah a...</td>\n",
       "    </tr>\n",
       "  </tbody>\n",
       "</table>\n",
       "</div>"
      ],
      "text/plain": [
       "        username  ...                                              tweet\n",
       "0         GrabID  ...  @ezizyaa Kalau itu tergantung kebijakan dari A...\n",
       "1         GrabID  ...  @ezizyaa Hai Kak :) buat pengiriman antar kota...\n",
       "2  marsupilapila  ...  @anteraja_id mau tanya paket dengan nomor resi...\n",
       "3     aLpyPutraa  ...  RT @amiranh_: Halo @anteraja_id saya pesan ops...\n",
       "4     Naanganang  ...  @anteraja_id min ini kenapa dari minggu udah a...\n",
       "\n",
       "[5 rows x 3 columns]"
      ]
     },
     "execution_count": 123,
     "metadata": {},
     "output_type": "execute_result"
    }
   ],
   "source": [
    "#Create pandas DataFrame, to avoid exceeding rate limit on Google Translator Rate Limit\n",
    "pd_Twitter = pd.DataFrame(df_Twitter.toPandas()) \n",
    "pd_Twitter.head()"
   ]
  },
  {
   "cell_type": "code",
   "execution_count": null,
   "metadata": {
    "id": "r6IDKAr8X5GJ"
   },
   "outputs": [],
   "source": [
    "# Applying Translator Function (Pandas)\n",
    "pd_Twitter['tweet'] = pd_Twitter['tweet'].map(lambda x: translator(x))"
   ]
  },
  {
   "cell_type": "code",
   "execution_count": null,
   "metadata": {
    "colab": {
     "base_uri": "https://localhost:8080/",
     "height": 206
    },
    "id": "2_zP3UNocHP-",
    "outputId": "6f64a83e-3477-47d2-99de-60aab36c6055"
   },
   "outputs": [
    {
     "data": {
      "text/html": [
       "<div>\n",
       "<style scoped>\n",
       "    .dataframe tbody tr th:only-of-type {\n",
       "        vertical-align: middle;\n",
       "    }\n",
       "\n",
       "    .dataframe tbody tr th {\n",
       "        vertical-align: top;\n",
       "    }\n",
       "\n",
       "    .dataframe thead th {\n",
       "        text-align: right;\n",
       "    }\n",
       "</style>\n",
       "<table border=\"1\" class=\"dataframe\">\n",
       "  <thead>\n",
       "    <tr style=\"text-align: right;\">\n",
       "      <th></th>\n",
       "      <th>username</th>\n",
       "      <th>date</th>\n",
       "      <th>tweet</th>\n",
       "    </tr>\n",
       "  </thead>\n",
       "  <tbody>\n",
       "    <tr>\n",
       "      <th>795</th>\n",
       "      <td>viviankurniawan</td>\n",
       "      <td>2021-10-18 10:46:54</td>\n",
       "      <td>@anteraja_id oh okay, why did you return it if...</td>\n",
       "    </tr>\n",
       "    <tr>\n",
       "      <th>796</th>\n",
       "      <td>agusminong</td>\n",
       "      <td>2021-10-18 10:45:33</td>\n",
       "      <td>@anteraja_id Using @anteraja_id delivery can b...</td>\n",
       "    </tr>\n",
       "    <tr>\n",
       "      <th>797</th>\n",
       "      <td>vmcinghu</td>\n",
       "      <td>2021-10-18 10:43:18</td>\n",
       "      <td>hello @anteraja_id please want to send it quic...</td>\n",
       "    </tr>\n",
       "    <tr>\n",
       "      <th>798</th>\n",
       "      <td>Irfan22031</td>\n",
       "      <td>2021-10-18 10:41:31</td>\n",
       "      <td>@anteraja_id Check dm why min</td>\n",
       "    </tr>\n",
       "    <tr>\n",
       "      <th>799</th>\n",
       "      <td>blacklist_era</td>\n",
       "      <td>2021-10-18 10:38:48</td>\n",
       "      <td>@anteraja_id I'm really tired, Ven resentful</td>\n",
       "    </tr>\n",
       "  </tbody>\n",
       "</table>\n",
       "</div>"
      ],
      "text/plain": [
       "            username  ...                                              tweet\n",
       "795  viviankurniawan  ...  @anteraja_id oh okay, why did you return it if...\n",
       "796       agusminong  ...  @anteraja_id Using @anteraja_id delivery can b...\n",
       "797         vmcinghu  ...  hello @anteraja_id please want to send it quic...\n",
       "798       Irfan22031  ...                      @anteraja_id Check dm why min\n",
       "799    blacklist_era  ...       @anteraja_id I'm really tired, Ven resentful\n",
       "\n",
       "[5 rows x 3 columns]"
      ]
     },
     "execution_count": 125,
     "metadata": {},
     "output_type": "execute_result"
    }
   ],
   "source": [
    "pd_Twitter.tail()"
   ]
  },
  {
   "cell_type": "code",
   "execution_count": null,
   "metadata": {
    "id": "8z0d3mDuc34w"
   },
   "outputs": [],
   "source": [
    "#Turn Pandas to Spark (For Faster Computation)\n",
    "df_Twitter=spark.createDataFrame(pd_Twitter)"
   ]
  },
  {
   "cell_type": "code",
   "execution_count": null,
   "metadata": {
    "id": "DV3qXBs-dbZz"
   },
   "outputs": [],
   "source": [
    "# Applying Cleansing Function\n",
    "df_Twitter = df_Twitter.withColumn(\"tweet\", udf_clean(col(\"tweet\"))).select(\"username\", \"date\", \"tweet\")"
   ]
  },
  {
   "cell_type": "code",
   "execution_count": null,
   "metadata": {
    "colab": {
     "base_uri": "https://localhost:8080/"
    },
    "id": "0Amlm-iBpwBE",
    "outputId": "44d396e9-6340-4bdd-8991-3616c295da4c"
   },
   "outputs": [
    {
     "name": "stdout",
     "output_type": "stream",
     "text": [
      "+-------------+-------------------+--------------------+\n",
      "|     username|               date|               tweet|\n",
      "+-------------+-------------------+--------------------+\n",
      "|       GrabID|2021-10-11 23:09:02|If it on the poli...|\n",
      "|       GrabID|2021-10-11 22:59:46|Hi Sis :) for int...|\n",
      "|marsupilapila|2021-10-11 21:36:13|id want to ask fo...|\n",
      "|   aLpyPutraa|2021-10-11 21:19:56|: Hello id I orde...|\n",
      "|   Naanganang|2021-10-11 21:13:43|id this min why s...|\n",
      "+-------------+-------------------+--------------------+\n",
      "only showing top 5 rows\n",
      "\n"
     ]
    }
   ],
   "source": [
    "df_Twitter.show(n=5)"
   ]
  },
  {
   "cell_type": "code",
   "execution_count": null,
   "metadata": {
    "id": "0gqrMYqwXRm7"
   },
   "outputs": [],
   "source": [
    "# Applying Sentiment Score Function\n",
    "df_Twitter = df_Twitter.withColumn(\"sentiment_score\", udf_sentiment_score(col(\"tweet\"))).select(\"username\", \"date\", \"tweet\", \"sentiment_score\")"
   ]
  },
  {
   "cell_type": "code",
   "execution_count": null,
   "metadata": {
    "colab": {
     "base_uri": "https://localhost:8080/"
    },
    "id": "LTktdTDjYxAB",
    "outputId": "8d62d975-17f5-4a9f-85bc-14725315bcce"
   },
   "outputs": [
    {
     "name": "stdout",
     "output_type": "stream",
     "text": [
      "+-------------+-------------------+--------------------+---------------+\n",
      "|     username|               date|               tweet|sentiment_score|\n",
      "+-------------+-------------------+--------------------+---------------+\n",
      "|       GrabID|2021-10-11 23:09:02|If it on the poli...|            0.0|\n",
      "|       GrabID|2021-10-11 22:59:46|Hi Sis :) for int...|           0.25|\n",
      "|marsupilapila|2021-10-11 21:36:13|id want to ask fo...|            0.0|\n",
      "|   aLpyPutraa|2021-10-11 21:19:56|: Hello id I orde...|            0.0|\n",
      "|   Naanganang|2021-10-11 21:13:43|id this min why s...|            0.0|\n",
      "+-------------+-------------------+--------------------+---------------+\n",
      "only showing top 5 rows\n",
      "\n"
     ]
    }
   ],
   "source": [
    "df_Twitter.show(n=5)"
   ]
  },
  {
   "cell_type": "code",
   "execution_count": null,
   "metadata": {
    "id": "zAx0szaOQyq6"
   },
   "outputs": [],
   "source": [
    "# Applying Sentiment Analysis Function\n",
    "df_Twitter = df_Twitter.withColumn(\"sentiment\", udf_sentiment(col(\"sentiment_score\"))).select(\"username\", \"date\", \"tweet\", \"sentiment_score\", \"sentiment\")"
   ]
  },
  {
   "cell_type": "code",
   "execution_count": null,
   "metadata": {
    "colab": {
     "base_uri": "https://localhost:8080/"
    },
    "id": "z3xHCkcZ5Gdh",
    "outputId": "27b5586a-29f8-4e6d-e76f-7f758188a4f9"
   },
   "outputs": [
    {
     "name": "stdout",
     "output_type": "stream",
     "text": [
      "+--------------+-------------------+--------------------+---------------+---------+\n",
      "|      username|               date|               tweet|sentiment_score|sentiment|\n",
      "+--------------+-------------------+--------------------+---------------+---------+\n",
      "|        GrabID|2021-10-11 23:09:02|If it on the poli...|            0.0|  neutral|\n",
      "|        GrabID|2021-10-11 22:59:46|Hi Sis :) for int...|           0.25| positive|\n",
      "| marsupilapila|2021-10-11 21:36:13|id want to ask fo...|            0.0|  neutral|\n",
      "|    aLpyPutraa|2021-10-11 21:19:56|: Hello id I orde...|            0.0|  neutral|\n",
      "|    Naanganang|2021-10-11 21:13:43|id this min why s...|            0.0|  neutral|\n",
      "|  nanang_indra|2021-10-11 21:09:07|id hello sis rece...|            0.0|  neutral|\n",
      "|cabangpurnamaa|2021-10-11 19:16:04|, I have to be fu...|            0.0|  neutral|\n",
      "+--------------+-------------------+--------------------+---------------+---------+\n",
      "only showing top 7 rows\n",
      "\n"
     ]
    }
   ],
   "source": [
    "df_Twitter.show(n=7)"
   ]
  },
  {
   "cell_type": "code",
   "execution_count": null,
   "metadata": {
    "id": "6HT_gyAepZh8"
   },
   "outputs": [],
   "source": [
    "export_Twitter = df_Twitter.select(\"username\", \"date\", \"tweet\", \"sentiment_score\", \"sentiment\")"
   ]
  },
  {
   "cell_type": "code",
   "execution_count": null,
   "metadata": {
    "id": "wCX9xTeagtes"
   },
   "outputs": [],
   "source": [
    "#Create pandas DataFrame, to export data\n",
    "pd_Twitter = pd.DataFrame(export_Twitter.toPandas())"
   ]
  },
  {
   "cell_type": "markdown",
   "metadata": {
    "id": "-1U-_YFZvQNG"
   },
   "source": [
    "### **C. Applying Functions to Google Play Store Review Data**"
   ]
  },
  {
   "cell_type": "code",
   "execution_count": null,
   "metadata": {
    "colab": {
     "base_uri": "https://localhost:8080/",
     "height": 206
    },
    "id": "VVTNHhoUhVEn",
    "outputId": "9fca84b9-08d0-413f-ed3e-30fb6b38ee4a"
   },
   "outputs": [
    {
     "data": {
      "text/html": [
       "<div>\n",
       "<style scoped>\n",
       "    .dataframe tbody tr th:only-of-type {\n",
       "        vertical-align: middle;\n",
       "    }\n",
       "\n",
       "    .dataframe tbody tr th {\n",
       "        vertical-align: top;\n",
       "    }\n",
       "\n",
       "    .dataframe thead th {\n",
       "        text-align: right;\n",
       "    }\n",
       "</style>\n",
       "<table border=\"1\" class=\"dataframe\">\n",
       "  <thead>\n",
       "    <tr style=\"text-align: right;\">\n",
       "      <th></th>\n",
       "      <th>userName</th>\n",
       "      <th>at</th>\n",
       "      <th>content</th>\n",
       "    </tr>\n",
       "  </thead>\n",
       "  <tbody>\n",
       "    <tr>\n",
       "      <th>0</th>\n",
       "      <td>Ahmad Syukri</td>\n",
       "      <td>2021-11-28 12:09:21</td>\n",
       "      <td>Mantabb... Harga bersaing baik di olshop maupu...</td>\n",
       "    </tr>\n",
       "    <tr>\n",
       "      <th>1</th>\n",
       "      <td>eliyanto liga</td>\n",
       "      <td>2021-11-28 08:19:34</td>\n",
       "      <td>👍👍👍👍👍</td>\n",
       "    </tr>\n",
       "    <tr>\n",
       "      <th>2</th>\n",
       "      <td>sari gatot</td>\n",
       "      <td>2021-11-28 03:13:50</td>\n",
       "      <td>sering kurir anteraja lempar barang2 pesanan s...</td>\n",
       "    </tr>\n",
       "    <tr>\n",
       "      <th>3</th>\n",
       "      <td>Vera Puspa Indah</td>\n",
       "      <td>2021-11-28 01:23:53</td>\n",
       "      <td>Yang disayangkan, sakuajanya tidak bisa di top...</td>\n",
       "    </tr>\n",
       "    <tr>\n",
       "      <th>4</th>\n",
       "      <td>Cimel</td>\n",
       "      <td>2021-11-28 01:06:59</td>\n",
       "      <td>Good</td>\n",
       "    </tr>\n",
       "  </tbody>\n",
       "</table>\n",
       "</div>"
      ],
      "text/plain": [
       "           userName  ...                                            content\n",
       "0      Ahmad Syukri  ...  Mantabb... Harga bersaing baik di olshop maupu...\n",
       "1     eliyanto liga  ...                                              👍👍👍👍👍\n",
       "2        sari gatot  ...  sering kurir anteraja lempar barang2 pesanan s...\n",
       "3  Vera Puspa Indah  ...  Yang disayangkan, sakuajanya tidak bisa di top...\n",
       "4             Cimel  ...                                               Good\n",
       "\n",
       "[5 rows x 3 columns]"
      ]
     },
     "execution_count": 43,
     "metadata": {},
     "output_type": "execute_result"
    }
   ],
   "source": [
    "#Create pandas DataFrame, to avoid exceeding rate limit on Google Translator Rate Limit\n",
    "pd_google_play = pd.DataFrame(df_google_play.toPandas()) \n",
    "pd_google_play.head()"
   ]
  },
  {
   "cell_type": "code",
   "execution_count": null,
   "metadata": {
    "colab": {
     "base_uri": "https://localhost:8080/",
     "height": 424
    },
    "id": "aJF1Nhfoj9Jc",
    "outputId": "df9f521c-195e-44b0-884a-a8ad9568ea79"
   },
   "outputs": [
    {
     "data": {
      "text/html": [
       "<div>\n",
       "<style scoped>\n",
       "    .dataframe tbody tr th:only-of-type {\n",
       "        vertical-align: middle;\n",
       "    }\n",
       "\n",
       "    .dataframe tbody tr th {\n",
       "        vertical-align: top;\n",
       "    }\n",
       "\n",
       "    .dataframe thead th {\n",
       "        text-align: right;\n",
       "    }\n",
       "</style>\n",
       "<table border=\"1\" class=\"dataframe\">\n",
       "  <thead>\n",
       "    <tr style=\"text-align: right;\">\n",
       "      <th></th>\n",
       "      <th>userName</th>\n",
       "      <th>at</th>\n",
       "      <th>content</th>\n",
       "    </tr>\n",
       "  </thead>\n",
       "  <tbody>\n",
       "    <tr>\n",
       "      <th>0</th>\n",
       "      <td>Ahmad Syukri</td>\n",
       "      <td>2021-11-28 12:09:21</td>\n",
       "      <td>Mantabb... Harga bersaing baik di olshop maupu...</td>\n",
       "    </tr>\n",
       "    <tr>\n",
       "      <th>1</th>\n",
       "      <td>eliyanto liga</td>\n",
       "      <td>2021-11-28 08:19:34</td>\n",
       "      <td>👍👍👍👍👍</td>\n",
       "    </tr>\n",
       "    <tr>\n",
       "      <th>2</th>\n",
       "      <td>sari gatot</td>\n",
       "      <td>2021-11-28 03:13:50</td>\n",
       "      <td>sering kurir anteraja lempar barang2 pesanan s...</td>\n",
       "    </tr>\n",
       "    <tr>\n",
       "      <th>3</th>\n",
       "      <td>Vera Puspa Indah</td>\n",
       "      <td>2021-11-28 01:23:53</td>\n",
       "      <td>Yang disayangkan, sakuajanya tidak bisa di top...</td>\n",
       "    </tr>\n",
       "    <tr>\n",
       "      <th>4</th>\n",
       "      <td>Cimel</td>\n",
       "      <td>2021-11-28 01:06:59</td>\n",
       "      <td>Good</td>\n",
       "    </tr>\n",
       "    <tr>\n",
       "      <th>...</th>\n",
       "      <td>...</td>\n",
       "      <td>...</td>\n",
       "      <td>...</td>\n",
       "    </tr>\n",
       "    <tr>\n",
       "      <th>208</th>\n",
       "      <td>Olivia IPD</td>\n",
       "      <td>2021-11-11 02:34:41</td>\n",
       "      <td>Pengirimannya cepat, bahkan lebih cepat dari p...</td>\n",
       "    </tr>\n",
       "    <tr>\n",
       "      <th>209</th>\n",
       "      <td>Richard Sebastian</td>\n",
       "      <td>2021-11-11 02:28:34</td>\n",
       "      <td>Pengirimannya cepat dan banyak promonya juga</td>\n",
       "    </tr>\n",
       "    <tr>\n",
       "      <th>210</th>\n",
       "      <td>Rifka Fitriana Rahmadani</td>\n",
       "      <td>2021-11-11 02:27:34</td>\n",
       "      <td>works well and really help if you need to send...</td>\n",
       "    </tr>\n",
       "    <tr>\n",
       "      <th>211</th>\n",
       "      <td>Devinta Rhista Purnama</td>\n",
       "      <td>2021-11-11 01:57:10</td>\n",
       "      <td>Search history AWB tidak bisa menggunakan nama...</td>\n",
       "    </tr>\n",
       "    <tr>\n",
       "      <th>212</th>\n",
       "      <td>Sitifatimahaz</td>\n",
       "      <td>2021-11-11 01:55:50</td>\n",
       "      <td>Promonya wadidaw mantul</td>\n",
       "    </tr>\n",
       "  </tbody>\n",
       "</table>\n",
       "<p>213 rows × 3 columns</p>\n",
       "</div>"
      ],
      "text/plain": [
       "                     userName  ...                                            content\n",
       "0                Ahmad Syukri  ...  Mantabb... Harga bersaing baik di olshop maupu...\n",
       "1               eliyanto liga  ...                                              👍👍👍👍👍\n",
       "2                  sari gatot  ...  sering kurir anteraja lempar barang2 pesanan s...\n",
       "3            Vera Puspa Indah  ...  Yang disayangkan, sakuajanya tidak bisa di top...\n",
       "4                       Cimel  ...                                               Good\n",
       "..                        ...  ...                                                ...\n",
       "208                Olivia IPD  ...  Pengirimannya cepat, bahkan lebih cepat dari p...\n",
       "209         Richard Sebastian  ...       Pengirimannya cepat dan banyak promonya juga\n",
       "210  Rifka Fitriana Rahmadani  ...  works well and really help if you need to send...\n",
       "211    Devinta Rhista Purnama  ...  Search history AWB tidak bisa menggunakan nama...\n",
       "212             Sitifatimahaz  ...                            Promonya wadidaw mantul\n",
       "\n",
       "[213 rows x 3 columns]"
      ]
     },
     "execution_count": 44,
     "metadata": {},
     "output_type": "execute_result"
    }
   ],
   "source": [
    "pd_google_play = pd_google_play[pd_google_play['at'].dt.strftime('%Y-%m-%d') >= \"2021-11-11\"]\n",
    "pd_google_play"
   ]
  },
  {
   "cell_type": "code",
   "execution_count": null,
   "metadata": {
    "id": "Vq2QUK9Iiv_E"
   },
   "outputs": [],
   "source": [
    "#Translate from pandas dataframe to GoogleTranslator API\n",
    "pd_google_play['content'] = pd_google_play['content'].map(lambda x: translator(x))"
   ]
  },
  {
   "cell_type": "code",
   "execution_count": null,
   "metadata": {
    "colab": {
     "base_uri": "https://localhost:8080/",
     "height": 206
    },
    "id": "PiBabnZLlcze",
    "outputId": "8fed4447-8f99-422c-e764-ecbbc023fb11"
   },
   "outputs": [
    {
     "data": {
      "text/html": [
       "<div>\n",
       "<style scoped>\n",
       "    .dataframe tbody tr th:only-of-type {\n",
       "        vertical-align: middle;\n",
       "    }\n",
       "\n",
       "    .dataframe tbody tr th {\n",
       "        vertical-align: top;\n",
       "    }\n",
       "\n",
       "    .dataframe thead th {\n",
       "        text-align: right;\n",
       "    }\n",
       "</style>\n",
       "<table border=\"1\" class=\"dataframe\">\n",
       "  <thead>\n",
       "    <tr style=\"text-align: right;\">\n",
       "      <th></th>\n",
       "      <th>userName</th>\n",
       "      <th>at</th>\n",
       "      <th>content</th>\n",
       "    </tr>\n",
       "  </thead>\n",
       "  <tbody>\n",
       "    <tr>\n",
       "      <th>208</th>\n",
       "      <td>Olivia IPD</td>\n",
       "      <td>2021-11-11 02:34:41</td>\n",
       "      <td>Fast delivery, even faster than expected. Alwa...</td>\n",
       "    </tr>\n",
       "    <tr>\n",
       "      <th>209</th>\n",
       "      <td>Richard Sebastian</td>\n",
       "      <td>2021-11-11 02:28:34</td>\n",
       "      <td>Fast delivery and lots of promotions too</td>\n",
       "    </tr>\n",
       "    <tr>\n",
       "      <th>210</th>\n",
       "      <td>Rifka Fitriana Rahmadani</td>\n",
       "      <td>2021-11-11 02:27:34</td>\n",
       "      <td>works well and really help if you need to send...</td>\n",
       "    </tr>\n",
       "    <tr>\n",
       "      <th>211</th>\n",
       "      <td>Devinta Rhista Purnama</td>\n",
       "      <td>2021-11-11 01:57:10</td>\n",
       "      <td>Search history AWB can't use the recipient's n...</td>\n",
       "    </tr>\n",
       "    <tr>\n",
       "      <th>212</th>\n",
       "      <td>Sitifatimahaz</td>\n",
       "      <td>2021-11-11 01:55:50</td>\n",
       "      <td>The promo wadidaw helps</td>\n",
       "    </tr>\n",
       "  </tbody>\n",
       "</table>\n",
       "</div>"
      ],
      "text/plain": [
       "                     userName  ...                                            content\n",
       "208                Olivia IPD  ...  Fast delivery, even faster than expected. Alwa...\n",
       "209         Richard Sebastian  ...           Fast delivery and lots of promotions too\n",
       "210  Rifka Fitriana Rahmadani  ...  works well and really help if you need to send...\n",
       "211    Devinta Rhista Purnama  ...  Search history AWB can't use the recipient's n...\n",
       "212             Sitifatimahaz  ...                            The promo wadidaw helps\n",
       "\n",
       "[5 rows x 3 columns]"
      ]
     },
     "execution_count": 46,
     "metadata": {},
     "output_type": "execute_result"
    }
   ],
   "source": [
    "pd_google_play.tail()"
   ]
  },
  {
   "cell_type": "code",
   "execution_count": null,
   "metadata": {
    "id": "r68c7lrSuFaz"
   },
   "outputs": [],
   "source": [
    "pd_google_play = pd_google_play[pd_google_play['content'].notna()]"
   ]
  },
  {
   "cell_type": "code",
   "execution_count": null,
   "metadata": {
    "colab": {
     "base_uri": "https://localhost:8080/",
     "height": 206
    },
    "id": "OqIFJvkpuOVM",
    "outputId": "a44fa258-45b6-4564-92f7-74b35261379f"
   },
   "outputs": [
    {
     "data": {
      "text/html": [
       "<div>\n",
       "<style scoped>\n",
       "    .dataframe tbody tr th:only-of-type {\n",
       "        vertical-align: middle;\n",
       "    }\n",
       "\n",
       "    .dataframe tbody tr th {\n",
       "        vertical-align: top;\n",
       "    }\n",
       "\n",
       "    .dataframe thead th {\n",
       "        text-align: right;\n",
       "    }\n",
       "</style>\n",
       "<table border=\"1\" class=\"dataframe\">\n",
       "  <thead>\n",
       "    <tr style=\"text-align: right;\">\n",
       "      <th></th>\n",
       "      <th>userName</th>\n",
       "      <th>at</th>\n",
       "      <th>content</th>\n",
       "    </tr>\n",
       "  </thead>\n",
       "  <tbody>\n",
       "    <tr>\n",
       "      <th>0</th>\n",
       "      <td>Ahmad Syukri</td>\n",
       "      <td>2021-11-28 12:09:21</td>\n",
       "      <td>Great... Competitive prices both in olshops an...</td>\n",
       "    </tr>\n",
       "    <tr>\n",
       "      <th>2</th>\n",
       "      <td>sari gatot</td>\n",
       "      <td>2021-11-28 03:13:50</td>\n",
       "      <td>Anteraja couriers often throw the things I ord...</td>\n",
       "    </tr>\n",
       "    <tr>\n",
       "      <th>3</th>\n",
       "      <td>Vera Puspa Indah</td>\n",
       "      <td>2021-11-28 01:23:53</td>\n",
       "      <td>Unfortunately, the pocket can't be topped up.</td>\n",
       "    </tr>\n",
       "    <tr>\n",
       "      <th>4</th>\n",
       "      <td>Cimel</td>\n",
       "      <td>2021-11-28 01:06:59</td>\n",
       "      <td>good</td>\n",
       "    </tr>\n",
       "    <tr>\n",
       "      <th>5</th>\n",
       "      <td>soetardjo shari</td>\n",
       "      <td>2021-11-28 01:06:23</td>\n",
       "      <td>Best application and your employee is really p...</td>\n",
       "    </tr>\n",
       "  </tbody>\n",
       "</table>\n",
       "</div>"
      ],
      "text/plain": [
       "           userName  ...                                            content\n",
       "0      Ahmad Syukri  ...  Great... Competitive prices both in olshops an...\n",
       "2        sari gatot  ...  Anteraja couriers often throw the things I ord...\n",
       "3  Vera Puspa Indah  ...      Unfortunately, the pocket can't be topped up.\n",
       "4             Cimel  ...                                               good\n",
       "5   soetardjo shari  ...  Best application and your employee is really p...\n",
       "\n",
       "[5 rows x 3 columns]"
      ]
     },
     "execution_count": 57,
     "metadata": {},
     "output_type": "execute_result"
    }
   ],
   "source": [
    "pd_google_play.head()"
   ]
  },
  {
   "cell_type": "code",
   "execution_count": null,
   "metadata": {
    "id": "PG2qdoHclkUi"
   },
   "outputs": [],
   "source": [
    "#Turn Pandas to Spark (For Faster Computation)\n",
    "df_google_play=spark.createDataFrame(pd_google_play)"
   ]
  },
  {
   "cell_type": "code",
   "execution_count": null,
   "metadata": {
    "colab": {
     "base_uri": "https://localhost:8080/"
    },
    "id": "UcDmiocIl6Ao",
    "outputId": "774e1863-192b-439a-c98a-a6e1da57c977"
   },
   "outputs": [
    {
     "name": "stdout",
     "output_type": "stream",
     "text": [
      "+------------+-------------------+--------------------+\n",
      "|    userName|                 at|             content|\n",
      "+------------+-------------------+--------------------+\n",
      "|Ahmad Syukri|2021-11-28 12:09:21|Great... Competit...|\n",
      "|  sari gatot|2021-11-28 03:13:50|Anteraja couriers...|\n",
      "+------------+-------------------+--------------------+\n",
      "only showing top 2 rows\n",
      "\n"
     ]
    }
   ],
   "source": [
    "df_google_play.show(2)"
   ]
  },
  {
   "cell_type": "code",
   "execution_count": null,
   "metadata": {
    "id": "Cvh6uyr3uJ0G"
   },
   "outputs": [],
   "source": [
    "# Applying Cleansing Function\n",
    "df_google_play = df_google_play.withColumn(\"content\", udf_clean(col(\"content\"))).select(\"userName\", \"at\", \"content\")"
   ]
  },
  {
   "cell_type": "code",
   "execution_count": null,
   "metadata": {
    "colab": {
     "base_uri": "https://localhost:8080/"
    },
    "id": "ND9kso3d0vLY",
    "outputId": "a9ea88e3-1447-45d5-cf9b-fde18903be30"
   },
   "outputs": [
    {
     "name": "stdout",
     "output_type": "stream",
     "text": [
      "+----------------+-------------------+--------------------+\n",
      "|        userName|                 at|             content|\n",
      "+----------------+-------------------+--------------------+\n",
      "|    Ahmad Syukri|2021-11-28 12:09:21|Great ... Competi...|\n",
      "|      sari gatot|2021-11-28 03:13:50|often throw the I...|\n",
      "|Vera Puspa Indah|2021-11-28 01:23:53|Unfortunately , t...|\n",
      "|           Cimel|2021-11-28 01:06:59|                good|\n",
      "| soetardjo shari|2021-11-28 01:06:23|Best application ...|\n",
      "+----------------+-------------------+--------------------+\n",
      "only showing top 5 rows\n",
      "\n"
     ]
    }
   ],
   "source": [
    "df_google_play.show(5)"
   ]
  },
  {
   "cell_type": "code",
   "execution_count": null,
   "metadata": {
    "id": "nKGOI89Q3H-C"
   },
   "outputs": [],
   "source": [
    "# Applying Sentiment Score Function\n",
    "df_google_play = df_google_play.withColumn(\"sentiment_score\", udf_sentiment_score(col(\"content\"))).select(\"userName\", \"at\", \"content\", \"sentiment_score\")"
   ]
  },
  {
   "cell_type": "code",
   "execution_count": null,
   "metadata": {
    "colab": {
     "base_uri": "https://localhost:8080/"
    },
    "id": "-aMrvnnB3gpW",
    "outputId": "27aeff4c-4ccb-4b31-db6a-615a51073ffb"
   },
   "outputs": [
    {
     "name": "stdout",
     "output_type": "stream",
     "text": [
      "+----------------+-------------------+--------------------+---------------+\n",
      "|        userName|                 at|             content|sentiment_score|\n",
      "+----------------+-------------------+--------------------+---------------+\n",
      "|    Ahmad Syukri|2021-11-28 12:09:21|Great ... Competi...|     0.53333336|\n",
      "|      sari gatot|2021-11-28 03:13:50|often throw the I...|            0.0|\n",
      "|Vera Puspa Indah|2021-11-28 01:23:53|Unfortunately , t...|           -0.5|\n",
      "|           Cimel|2021-11-28 01:06:59|                good|            0.7|\n",
      "| soetardjo shari|2021-11-28 01:06:23|Best application ...|        0.65625|\n",
      "+----------------+-------------------+--------------------+---------------+\n",
      "only showing top 5 rows\n",
      "\n"
     ]
    }
   ],
   "source": [
    "df_google_play.show(n=5)"
   ]
  },
  {
   "cell_type": "code",
   "execution_count": null,
   "metadata": {
    "id": "qPqNTxb5FTQ8"
   },
   "outputs": [],
   "source": [
    "# Applying Sentiment Category Function\n",
    "df_google_play = df_google_play.withColumn(\"sentiment\", udf_sentiment(col(\"sentiment_score\"))).select(\"userName\", \"at\", \"content\", \"sentiment_score\", \"sentiment\")"
   ]
  },
  {
   "cell_type": "code",
   "execution_count": null,
   "metadata": {
    "colab": {
     "base_uri": "https://localhost:8080/"
    },
    "id": "WM0kqlRRREyI",
    "outputId": "43d36fc3-9ffe-46a2-929e-6914c54b1669"
   },
   "outputs": [
    {
     "name": "stdout",
     "output_type": "stream",
     "text": [
      "+----------------+-------------------+--------------------+---------------+---------+\n",
      "|        userName|                 at|             content|sentiment_score|sentiment|\n",
      "+----------------+-------------------+--------------------+---------------+---------+\n",
      "|    Ahmad Syukri|2021-11-28 12:09:21|Great ... Competi...|     0.53333336| positive|\n",
      "|      sari gatot|2021-11-28 03:13:50|often throw the I...|            0.0|  neutral|\n",
      "|Vera Puspa Indah|2021-11-28 01:23:53|Unfortunately , t...|           -0.5| negative|\n",
      "|           Cimel|2021-11-28 01:06:59|                good|            0.7| positive|\n",
      "| soetardjo shari|2021-11-28 01:06:23|Best application ...|        0.65625| positive|\n",
      "+----------------+-------------------+--------------------+---------------+---------+\n",
      "only showing top 5 rows\n",
      "\n"
     ]
    }
   ],
   "source": [
    "df_google_play.show(n=5)"
   ]
  },
  {
   "cell_type": "code",
   "execution_count": null,
   "metadata": {
    "id": "jp_edxexwott"
   },
   "outputs": [],
   "source": [
    "export_google_play = df_google_play.select(\"userName\", \"at\", \"content\", \"sentiment_score\", \"sentiment\")"
   ]
  },
  {
   "cell_type": "code",
   "execution_count": null,
   "metadata": {
    "id": "0v5_6zUWwpqn"
   },
   "outputs": [],
   "source": [
    "#Create pandas DataFrame, to export data\n",
    "pd_google_play = pd.DataFrame(export_google_play.toPandas()) "
   ]
  },
  {
   "cell_type": "markdown",
   "metadata": {
    "id": "w471gwOXvsJW"
   },
   "source": [
    "# **Load**"
   ]
  },
  {
   "cell_type": "code",
   "execution_count": null,
   "metadata": {
    "id": "qLsBIFekVkxP"
   },
   "outputs": [],
   "source": [
    "!aws configure"
   ]
  },
  {
   "cell_type": "code",
   "execution_count": null,
   "metadata": {
    "id": "RwlaDhBi5pPc"
   },
   "outputs": [],
   "source": [
    "# Load df_Twitter to S3\n",
    "filename= \"twitter_sentiment.csv\"\n",
    "bucketName = 'sentiment-data-anteraja'\n",
    "folder_name = \"twitter_sentiment/\"\n",
    "\n",
    "csv_buffer = StringIO()\n",
    "pd_Twitter.to_csv(csv_buffer, index=False)\n",
    "\n",
    "client = boto3.client(\"s3\")\n",
    "\n",
    "response = client.put_object(\n",
    "    Body = csv_buffer.getvalue(),\n",
    "    Bucket = bucketName,\n",
    "    Key = folder_name+filename\n",
    ")"
   ]
  },
  {
   "cell_type": "code",
   "execution_count": null,
   "metadata": {
    "id": "3VV7vOj36VZr"
   },
   "outputs": [],
   "source": [
    "# Load df_google_play to S3\n",
    "filename= \"google_play_sentiment.csv\"\n",
    "bucketName = 'sentiment-data-anteraja'\n",
    "folder_name = \"google_play_sentiment/\"\n",
    "\n",
    "csv_buffer = StringIO()\n",
    "pd_google_play.to_csv(csv_buffer, index=False)\n",
    "\n",
    "client = boto3.client(\"s3\")\n",
    "\n",
    "response = client.put_object(\n",
    "    Body = csv_buffer.getvalue(),\n",
    "    Bucket = bucketName,\n",
    "    Key = folder_name+filename\n",
    ")"
   ]
  },
  {
   "cell_type": "markdown",
   "metadata": {
    "id": "REmcCmGBvuCi"
   },
   "source": [
    "# **Basic Viz**"
   ]
  },
  {
   "cell_type": "markdown",
   "metadata": {
    "id": "461YhWJlDy6M"
   },
   "source": [
    "### **A. Twitter Sentiment Analysis**"
   ]
  },
  {
   "cell_type": "code",
   "execution_count": null,
   "metadata": {
    "id": "ipjKiyqhzPfM"
   },
   "outputs": [],
   "source": [
    "tmp_Twitter = pd_Twitter.groupby(pd_Twitter.date.dt.day).agg('mean')"
   ]
  },
  {
   "cell_type": "code",
   "execution_count": null,
   "metadata": {
    "id": "jEmpXf295aAE"
   },
   "outputs": [],
   "source": [
    "tmp_Twitter = tmp_Twitter.reset_index()"
   ]
  },
  {
   "cell_type": "code",
   "execution_count": null,
   "metadata": {
    "colab": {
     "base_uri": "https://localhost:8080/",
     "height": 300
    },
    "id": "6G9itcJazw4x",
    "outputId": "10bc9ee3-d4e1-4643-cdb6-636ceea512a2"
   },
   "outputs": [
    {
     "data": {
      "text/html": [
       "<div>\n",
       "<style scoped>\n",
       "    .dataframe tbody tr th:only-of-type {\n",
       "        vertical-align: middle;\n",
       "    }\n",
       "\n",
       "    .dataframe tbody tr th {\n",
       "        vertical-align: top;\n",
       "    }\n",
       "\n",
       "    .dataframe thead th {\n",
       "        text-align: right;\n",
       "    }\n",
       "</style>\n",
       "<table border=\"1\" class=\"dataframe\">\n",
       "  <thead>\n",
       "    <tr style=\"text-align: right;\">\n",
       "      <th></th>\n",
       "      <th>date</th>\n",
       "      <th>sentiment_score</th>\n",
       "    </tr>\n",
       "  </thead>\n",
       "  <tbody>\n",
       "    <tr>\n",
       "      <th>0</th>\n",
       "      <td>11</td>\n",
       "      <td>0.096015</td>\n",
       "    </tr>\n",
       "    <tr>\n",
       "      <th>1</th>\n",
       "      <td>12</td>\n",
       "      <td>0.061876</td>\n",
       "    </tr>\n",
       "    <tr>\n",
       "      <th>2</th>\n",
       "      <td>13</td>\n",
       "      <td>0.032035</td>\n",
       "    </tr>\n",
       "    <tr>\n",
       "      <th>3</th>\n",
       "      <td>14</td>\n",
       "      <td>0.039441</td>\n",
       "    </tr>\n",
       "    <tr>\n",
       "      <th>4</th>\n",
       "      <td>15</td>\n",
       "      <td>-0.001666</td>\n",
       "    </tr>\n",
       "    <tr>\n",
       "      <th>5</th>\n",
       "      <td>16</td>\n",
       "      <td>0.044647</td>\n",
       "    </tr>\n",
       "    <tr>\n",
       "      <th>6</th>\n",
       "      <td>17</td>\n",
       "      <td>0.070348</td>\n",
       "    </tr>\n",
       "    <tr>\n",
       "      <th>7</th>\n",
       "      <td>18</td>\n",
       "      <td>0.114168</td>\n",
       "    </tr>\n",
       "  </tbody>\n",
       "</table>\n",
       "</div>"
      ],
      "text/plain": [
       "   date  sentiment_score\n",
       "0    11         0.096015\n",
       "1    12         0.061876\n",
       "2    13         0.032035\n",
       "3    14         0.039441\n",
       "4    15        -0.001666\n",
       "5    16         0.044647\n",
       "6    17         0.070348\n",
       "7    18         0.114168"
      ]
     },
     "execution_count": 141,
     "metadata": {},
     "output_type": "execute_result"
    }
   ],
   "source": [
    "tmp_Twitter"
   ]
  },
  {
   "cell_type": "code",
   "execution_count": null,
   "metadata": {
    "colab": {
     "base_uri": "https://localhost:8080/",
     "height": 296
    },
    "id": "kq3YZ5bQ2Mxj",
    "outputId": "ddff7ff5-72ab-44fd-8ba9-8130678c9555"
   },
   "outputs": [
    {
     "data": {
      "text/plain": [
       "<matplotlib.axes._subplots.AxesSubplot at 0x7fdac20a4110>"
      ]
     },
     "execution_count": 142,
     "metadata": {},
     "output_type": "execute_result"
    },
    {
     "data": {
      "image/png": "[encoded data removed]",
      "text/plain": [
       "<Figure size 432x288 with 1 Axes>"
      ]
     },
     "metadata": {
      "needs_background": "light"
     },
     "output_type": "display_data"
    }
   ],
   "source": [
    "sns.barplot(x=\"date\", y=\"sentiment_score\", color=\"c\", data=tmp_Twitter)"
   ]
  },
  {
   "cell_type": "code",
   "execution_count": null,
   "metadata": {
    "colab": {
     "base_uri": "https://localhost:8080/",
     "height": 264
    },
    "id": "UVWud8rEx-6c",
    "outputId": "b3bf2d51-e15b-4a9a-8138-65b747357d36"
   },
   "outputs": [
    {
     "data": {
      "image/png": "[encoded data removed]",
      "text/plain": [
       "<Figure size 432x288 with 1 Axes>"
      ]
     },
     "metadata": {},
     "output_type": "display_data"
    }
   ],
   "source": [
    "sentiment_Twitter_dict = {'positive': 0, 'negative': 0, 'neutral': 0}\n",
    "for sentiment in pd_Twitter[\"sentiment\"]:\n",
    "  if sentiment == \"positive\":\n",
    "      sentiment_Twitter_dict['positive'] += 1\n",
    "  elif sentiment == \"neutral\":\n",
    "      sentiment_Twitter_dict['neutral'] += 1\n",
    "  elif sentiment == \"negative\":\n",
    "      sentiment_Twitter_dict['negative'] += 1\n",
    "\n",
    "sentiment_Twitter = np.array([sentiment_Twitter_dict[\"positive\"], sentiment_Twitter_dict[\"neutral\"], sentiment_Twitter_dict[\"negative\"]])\n",
    "labels = [\"Positive\", \"Neutral\", \"Negative\"]\n",
    "colors = sns.color_palette('pastel')[0:5]\n",
    "\n",
    "plt.pie(sentiment_Twitter, labels=labels, colors=colors, shadow=True, autopct='%.0f%%')\n",
    "plt.title(\"Sentiment of tweets of Anteraja\")\n",
    "plt.show()"
   ]
  },
  {
   "cell_type": "markdown",
   "metadata": {
    "id": "ui8HamP7EI0r"
   },
   "source": [
    "### **B. Google Play Sentiment Analysis**"
   ]
  },
  {
   "cell_type": "code",
   "execution_count": null,
   "metadata": {
    "id": "kvXWNDZ601nl"
   },
   "outputs": [],
   "source": [
    "tmp_google_play = pd_google_play.groupby(pd_google_play['at'].dt.day).agg('mean')"
   ]
  },
  {
   "cell_type": "code",
   "execution_count": null,
   "metadata": {
    "id": "oIcycFYm2j-F"
   },
   "outputs": [],
   "source": [
    "tmp_google_play = tmp_google_play.reset_index()"
   ]
  },
  {
   "cell_type": "code",
   "execution_count": null,
   "metadata": {
    "colab": {
     "base_uri": "https://localhost:8080/",
     "height": 614
    },
    "id": "LaBtcBt70yln",
    "outputId": "bb2e9682-24ba-4e1b-ac39-e9b27276fca2"
   },
   "outputs": [
    {
     "data": {
      "text/html": [
       "<div>\n",
       "<style scoped>\n",
       "    .dataframe tbody tr th:only-of-type {\n",
       "        vertical-align: middle;\n",
       "    }\n",
       "\n",
       "    .dataframe tbody tr th {\n",
       "        vertical-align: top;\n",
       "    }\n",
       "\n",
       "    .dataframe thead th {\n",
       "        text-align: right;\n",
       "    }\n",
       "</style>\n",
       "<table border=\"1\" class=\"dataframe\">\n",
       "  <thead>\n",
       "    <tr style=\"text-align: right;\">\n",
       "      <th></th>\n",
       "      <th>at</th>\n",
       "      <th>sentiment_score</th>\n",
       "    </tr>\n",
       "  </thead>\n",
       "  <tbody>\n",
       "    <tr>\n",
       "      <th>0</th>\n",
       "      <td>11</td>\n",
       "      <td>0.073112</td>\n",
       "    </tr>\n",
       "    <tr>\n",
       "      <th>1</th>\n",
       "      <td>12</td>\n",
       "      <td>0.208028</td>\n",
       "    </tr>\n",
       "    <tr>\n",
       "      <th>2</th>\n",
       "      <td>13</td>\n",
       "      <td>0.084333</td>\n",
       "    </tr>\n",
       "    <tr>\n",
       "      <th>3</th>\n",
       "      <td>14</td>\n",
       "      <td>0.040044</td>\n",
       "    </tr>\n",
       "    <tr>\n",
       "      <th>4</th>\n",
       "      <td>15</td>\n",
       "      <td>0.010236</td>\n",
       "    </tr>\n",
       "    <tr>\n",
       "      <th>5</th>\n",
       "      <td>16</td>\n",
       "      <td>-0.045547</td>\n",
       "    </tr>\n",
       "    <tr>\n",
       "      <th>6</th>\n",
       "      <td>17</td>\n",
       "      <td>-0.060102</td>\n",
       "    </tr>\n",
       "    <tr>\n",
       "      <th>7</th>\n",
       "      <td>18</td>\n",
       "      <td>0.274267</td>\n",
       "    </tr>\n",
       "    <tr>\n",
       "      <th>8</th>\n",
       "      <td>19</td>\n",
       "      <td>0.006458</td>\n",
       "    </tr>\n",
       "    <tr>\n",
       "      <th>9</th>\n",
       "      <td>20</td>\n",
       "      <td>0.178095</td>\n",
       "    </tr>\n",
       "    <tr>\n",
       "      <th>10</th>\n",
       "      <td>21</td>\n",
       "      <td>0.100000</td>\n",
       "    </tr>\n",
       "    <tr>\n",
       "      <th>11</th>\n",
       "      <td>22</td>\n",
       "      <td>0.193217</td>\n",
       "    </tr>\n",
       "    <tr>\n",
       "      <th>12</th>\n",
       "      <td>23</td>\n",
       "      <td>0.288492</td>\n",
       "    </tr>\n",
       "    <tr>\n",
       "      <th>13</th>\n",
       "      <td>24</td>\n",
       "      <td>0.275000</td>\n",
       "    </tr>\n",
       "    <tr>\n",
       "      <th>14</th>\n",
       "      <td>25</td>\n",
       "      <td>0.187652</td>\n",
       "    </tr>\n",
       "    <tr>\n",
       "      <th>15</th>\n",
       "      <td>26</td>\n",
       "      <td>0.107292</td>\n",
       "    </tr>\n",
       "    <tr>\n",
       "      <th>16</th>\n",
       "      <td>27</td>\n",
       "      <td>0.313186</td>\n",
       "    </tr>\n",
       "    <tr>\n",
       "      <th>17</th>\n",
       "      <td>28</td>\n",
       "      <td>0.277917</td>\n",
       "    </tr>\n",
       "  </tbody>\n",
       "</table>\n",
       "</div>"
      ],
      "text/plain": [
       "    at  sentiment_score\n",
       "0   11         0.073112\n",
       "1   12         0.208028\n",
       "2   13         0.084333\n",
       "3   14         0.040044\n",
       "4   15         0.010236\n",
       "5   16        -0.045547\n",
       "6   17        -0.060102\n",
       "7   18         0.274267\n",
       "8   19         0.006458\n",
       "9   20         0.178095\n",
       "10  21         0.100000\n",
       "11  22         0.193217\n",
       "12  23         0.288492\n",
       "13  24         0.275000\n",
       "14  25         0.187652\n",
       "15  26         0.107292\n",
       "16  27         0.313186\n",
       "17  28         0.277917"
      ]
     },
     "execution_count": 89,
     "metadata": {},
     "output_type": "execute_result"
    }
   ],
   "source": [
    "tmp_google_play"
   ]
  },
  {
   "cell_type": "code",
   "execution_count": null,
   "metadata": {
    "colab": {
     "base_uri": "https://localhost:8080/",
     "height": 296
    },
    "id": "82TioeQW2bRf",
    "outputId": "07d093a9-3fb8-4a3d-84c5-a8b1ac502ef0"
   },
   "outputs": [
    {
     "data": {
      "text/plain": [
       "<matplotlib.axes._subplots.AxesSubplot at 0x7fdac264f210>"
      ]
     },
     "execution_count": 105,
     "metadata": {},
     "output_type": "execute_result"
    },
    {
     "data": {
      "image/png": "[encoded data removed]",
      "text/plain": [
       "<Figure size 432x288 with 1 Axes>"
      ]
     },
     "metadata": {
      "needs_background": "light"
     },
     "output_type": "display_data"
    }
   ],
   "source": [
    "sns.barplot(x=\"at\", y=\"sentiment_score\", color=\"c\", data=tmp_google_play)"
   ]
  },
  {
   "cell_type": "code",
   "execution_count": null,
   "metadata": {
    "colab": {
     "base_uri": "https://localhost:8080/",
     "height": 264
    },
    "id": "mIHF-uHbzn0Y",
    "outputId": "d2f55f35-829e-43fc-8e27-3e4b5c47240a"
   },
   "outputs": [
    {
     "data": {
      "image/png": "[encoded data removed]",
      "text/plain": [
       "<Figure size 432x288 with 1 Axes>"
      ]
     },
     "metadata": {},
     "output_type": "display_data"
    }
   ],
   "source": [
    "sentiment_google_play_dict = {'positive' : 0, 'negative' : 0, 'neutral': 0}\n",
    "for sentiment in pd_google_play[\"sentiment\"]:\n",
    "  if sentiment == \"positive\":\n",
    "      sentiment_google_play_dict['positive'] += 1\n",
    "  elif sentiment == \"neutral\":\n",
    "      sentiment_google_play_dict['neutral'] += 1\n",
    "  elif sentiment == \"negative\":\n",
    "      sentiment_google_play_dict['negative'] += 1\n",
    "\n",
    "sentiment_google_play = np.array([sentiment_google_play_dict[\"positive\"], sentiment_google_play_dict[\"neutral\"], sentiment_google_play_dict[\"negative\"]])\n",
    "labels = [\"Positive\", \"Neutral\", \"Negative\"]\n",
    "colors = sns.color_palette('pastel')[0:5]\n",
    "\n",
    "plt.pie(sentiment_google_play, labels=labels, colors=colors, shadow=True, autopct='%.0f%%')\n",
    "plt.title(\"Sentiment of review of Anteraja on Google Play\")\n",
    "plt.show() "
   ]
  }
 ],
 "metadata": {
  "colab": {
   "collapsed_sections": [
    "skhO_ImOGKcH"
   ],
   "name": "ETL_AnterAja_Kelompok1.ipynb",
   "provenance": []
  },
  "kernelspec": {
   "display_name": "Python 3",
   "language": "python",
   "name": "python3"
  },
  "language_info": {
   "codemirror_mode": {
    "name": "ipython",
    "version": 3
   },
   "file_extension": ".py",
   "mimetype": "text/x-python",
   "name": "python",
   "nbconvert_exporter": "python",
   "pygments_lexer": "ipython3",
   "version": "3.8.8"
  }
 },
 "nbformat": 4,
 "nbformat_minor": 1
}
